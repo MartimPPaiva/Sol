{
 "cells": [
  {
   "cell_type": "markdown",
   "id": "b72c4adf",
   "metadata": {},
   "source": [
    "# Aglomerado de tudo!"
   ]
  },
  {
   "cell_type": "code",
   "execution_count": 1,
   "id": "aa91dbbb",
   "metadata": {},
   "outputs": [],
   "source": [
    "import numpy as np"
   ]
  },
  {
   "cell_type": "markdown",
   "id": "cd9deb4d",
   "metadata": {},
   "source": [
    "## 1. Alvo no equador do Sol, observador no plano do equador do Sol"
   ]
  },
  {
   "cell_type": "code",
   "execution_count": null,
   "id": "c43c9efc",
   "metadata": {},
   "outputs": [],
   "source": []
  },
  {
   "cell_type": "markdown",
   "id": "5fbaa6fd",
   "metadata": {},
   "source": [
    "## 2. Alvo em qualquer ponto da superfície do Sol, observador no plano do equador do Sol"
   ]
  },
  {
   "cell_type": "code",
   "execution_count": null,
   "id": "1ef4a313",
   "metadata": {},
   "outputs": [],
   "source": []
  },
  {
   "cell_type": "markdown",
   "id": "f86e6a4c",
   "metadata": {},
   "source": [
    "## 3. Alvo em qualquer ponto da superfície do Sol, observador num plano a uma aplitude fixa do equador do Sol"
   ]
  },
  {
   "cell_type": "code",
   "execution_count": null,
   "id": "09ec2820",
   "metadata": {},
   "outputs": [],
   "source": []
  },
  {
   "cell_type": "markdown",
   "id": "a22517fb",
   "metadata": {},
   "source": [
    "## 4. Alvo em qualquer ponto da superfície do Sol, observador em qualquer ponto da órbita terrestre"
   ]
  },
  {
   "cell_type": "code",
   "execution_count": null,
   "id": "dd553217",
   "metadata": {},
   "outputs": [],
   "source": []
  }
 ],
 "metadata": {
  "kernelspec": {
   "display_name": "Python 3 (ipykernel)",
   "language": "python",
   "name": "python3"
  },
  "language_info": {
   "codemirror_mode": {
    "name": "ipython",
    "version": 3
   },
   "file_extension": ".py",
   "mimetype": "text/x-python",
   "name": "python",
   "nbconvert_exporter": "python",
   "pygments_lexer": "ipython3",
   "version": "3.10.1"
  }
 },
 "nbformat": 4,
 "nbformat_minor": 5
}
